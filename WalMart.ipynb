{
 "cells": [
  {
   "cell_type": "code",
   "execution_count": 5,
   "metadata": {},
   "outputs": [],
   "source": [
    "from config import *\n",
    "from db import *"
   ]
  },
  {
   "cell_type": "code",
   "execution_count": 6,
   "metadata": {},
   "outputs": [],
   "source": [
    "from selenium import webdriver\n",
    "from selenium.webdriver.firefox.options import Options\n",
    "import pymongo\n",
    "import os\n",
    "\n",
    "from time import sleep"
   ]
  },
  {
   "cell_type": "code",
   "execution_count": 7,
   "metadata": {},
   "outputs": [],
   "source": [
    "client = pymongo.MongoClient(f\"mongodb+srv://{mongo_user}:{mongo_password}@{mongo_url}\")\n",
    "db = client.test"
   ]
  },
  {
   "cell_type": "code",
   "execution_count": 3,
   "metadata": {},
   "outputs": [],
   "source": [
    "try:\n",
    "    current_path = os.path.dirname(os.path.abspath(__file__))\n",
    "except:\n",
    "    current_path = '.'"
   ]
  },
  {
   "cell_type": "code",
   "execution_count": 4,
   "metadata": {},
   "outputs": [],
   "source": [
    "def init_driver(gecko_driver, load_images = True, user_agent = '', is_headless = False):\n",
    "    firefox_profile = webdriver.FirefoxProfile()\n",
    "    \n",
    "    firefox_profile.set_preference('dom.ipc.plugins.enabled.libflashplayer.so', False)\n",
    "    firefox_profile.set_preference('media.volume_scale', \"0.0\")\n",
    "    firefox_profile.set_preference(\"dom.webnotifications.enabled\", False)\n",
    "    \n",
    "    if not load_images:\n",
    "        firefox_profile.set_preference('permissions.default.image', 2)\n",
    "    if user_agent != '':\n",
    "        firefox_profile.set_preference(\"general.useragent.override\", user_agent)\n",
    "    \n",
    "    options = Options()\n",
    "    options.headless = is_headless\n",
    "    \n",
    "    driver = webdriver.Firefox(executable_path = f\"{current_path}/{gecko_driver}\",\n",
    "                              firefox_profile = firefox_profile,\n",
    "                              options = options)\n",
    "    \n",
    "    return driver"
   ]
  },
  {
   "cell_type": "code",
   "execution_count": 5,
   "metadata": {},
   "outputs": [],
   "source": [
    "def get_url(page_url, driver):\n",
    "    driver.get(page_url)\n",
    "    \n",
    "    sleep(page_load)\n",
    "    close_popup = driver.find_elements_by_css_selector('.acsFocusFirst')\n",
    "    if len(close_popup) > 0:\n",
    "        close_popup[0].click()\n",
    "\n",
    "def get_products(driver):\n",
    "    products = driver.find_elements_by_css_selector('div.shelf-thumbs .standard-thumb')\n",
    "\n",
    "    products_info = []\n",
    "\n",
    "    for product in products:\n",
    "        # Get product title\n",
    "        product_title = ''\n",
    "        if len(product.find_elements_by_css_selector('div.product-details-container .details .title .thumb-header')) > 0:\n",
    "            product_title = product.find_elements_by_css_selector('div.product-details-container .details .title .thumb-header')[0].text\n",
    "\n",
    "        # Get product url\n",
    "        product_url = ''\n",
    "        if len(product.find_elements_by_css_selector('a.product-link')) > 0:\n",
    "            product_url = product.find_elements_by_css_selector('a.product-link')[0].get_attribute('href')\n",
    "\n",
    "        # Get product current price\n",
    "        current_price = 0\n",
    "        if len(product.find_elements_by_css_selector('div.product-details-container .all-price-sections .price-current')) > 0:\n",
    "            current_price = product.find_elements_by_css_selector('div.product-details-container .all-price-sections .price-current')[0].text\n",
    "            current_price = current_price.replace('\\n', '')\n",
    "            current_price = current_price.replace('$', '')\n",
    "            current_price = current_price.replace(',', '')\n",
    "            if \"to\" in current_price:\n",
    "                current_price = current_price.split('.')\n",
    "                current_price = float(current_price[0])\n",
    "            current_price = float(current_price)\n",
    "\n",
    "        # Get product old price\n",
    "        old_price = 0\n",
    "        if len(product.find_elements_by_css_selector('div.product-details-container .all-price-sections .pricing-spacer .price-was')) > 0:\n",
    "            old_price = product.find_elements_by_css_selector('div.product-details-container .all-price-sections .pricing-spacer .price-was')[0].text\n",
    "            old_price = old_price.replace('$', '')\n",
    "            old_price = old_price.replace(\"Was \", \"\")\n",
    "            if len(old_price) > 0:\n",
    "                old_price = float(old_price)\n",
    "            else: \n",
    "                old_price = 0\n",
    "\n",
    "        discount_number = 0\n",
    "        discount_percent = 0\n",
    "\n",
    "        if current_price != 0 and old_price != 0 and old_price > current_price:\n",
    "            discount_number = round(old_price - current_price)\n",
    "            discount_percent = round(100 - (current_price/old_price) * 100)\n",
    "\n",
    "        if current_price !=0 and len(product_url) > 0 and len(product_title) > 0:\n",
    "            product_info = {\n",
    "                'title': product_title,\n",
    "                'url': product_url,\n",
    "                'current_p': current_price,\n",
    "                'old_p': old_price,\n",
    "                'discount_n': discount_number,\n",
    "                'discount_p': discount_percent\n",
    "            }\n",
    "            products_info.append(product_info)\n",
    "        \n",
    "    return products_info\n"
   ]
  },
  {
   "cell_type": "code",
   "execution_count": 6,
   "metadata": {},
   "outputs": [],
   "source": [
    "driver = init_driver(gecko_driver, user_agent = user_agent)"
   ]
  },
  {
   "cell_type": "code",
   "execution_count": 7,
   "metadata": {},
   "outputs": [],
   "source": [
    "# https://www.walmart.ca/en/top-deals-in-electronics/N-33983\n",
    "categories = ['top-deals-in-electronics/N-33983']"
   ]
  },
  {
   "cell_type": "code",
   "execution_count": 9,
   "metadata": {},
   "outputs": [],
   "source": [
    "for category in categories:\n",
    "    category_url = f\"{walmart_base_url}/{category}\"\n",
    "    \n",
    "    for page in range(1,4):\n",
    "        page_url = f\"{category_url}/page-{str(page)}\"\n",
    "        get_url(page_url, driver)\n",
    "        \n",
    "        products = get_products(driver)"
   ]
  },
  {
   "cell_type": "code",
   "execution_count": 47,
   "metadata": {},
   "outputs": [],
   "source": [
    "get_url('https://www.walmart.ca/en/top-deals-in-electronics/N-33983/page-2', driver)"
   ]
  },
  {
   "cell_type": "code",
   "execution_count": 15,
   "metadata": {},
   "outputs": [],
   "source": [
    "driver.quit()"
   ]
  }
 ],
 "metadata": {
  "kernelspec": {
   "display_name": "Python 3",
   "language": "python",
   "name": "python3"
  },
  "language_info": {
   "codemirror_mode": {
    "name": "ipython",
    "version": 3
   },
   "file_extension": ".py",
   "mimetype": "text/x-python",
   "name": "python",
   "nbconvert_exporter": "python",
   "pygments_lexer": "ipython3",
   "version": "3.8.5"
  }
 },
 "nbformat": 4,
 "nbformat_minor": 4
}
