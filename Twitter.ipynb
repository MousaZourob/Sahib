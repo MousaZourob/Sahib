{
 "cells": [
  {
   "cell_type": "code",
   "execution_count": 1,
   "metadata": {},
   "outputs": [],
   "source": [
    "from config import *\n",
    "from db import *\n",
    "from utilities import *"
   ]
  },
  {
   "cell_type": "code",
   "execution_count": 2,
   "metadata": {},
   "outputs": [],
   "source": [
    "from time import sleep\n",
    "import json\n",
    "from pathlib import Path\n",
    "from selenium import webdriver\n",
    "from selenium.webdriver.common.keys import Keys"
   ]
  },
  {
   "cell_type": "code",
   "execution_count": 3,
   "metadata": {},
   "outputs": [],
   "source": [
    "import pymongo \n",
    "\n",
    "client = pymongo.MongoClient(f\"mongodb+srv://{mongo_user}:{mongo_password}@{mongo_url}\")\n",
    "db = client.walmart"
   ]
  },
  {
   "cell_type": "code",
   "execution_count": 4,
   "metadata": {},
   "outputs": [],
   "source": [
    "try:\n",
    "    current_path = os.path.dirname(os.path.abspath(__file__))\n",
    "except:\n",
    "    current_path = '.'"
   ]
  },
  {
   "cell_type": "code",
   "execution_count": 5,
   "metadata": {},
   "outputs": [],
   "source": [
    "driver = init_driver(gecko_driver, user_agent = user_agent, is_headless = False)"
   ]
  },
  {
   "cell_type": "code",
   "execution_count": 6,
   "metadata": {},
   "outputs": [],
   "source": [
    "is_login = load_cookies(driver)\n",
    "\n",
    "if is_login == False:\n",
    "    twitter_login(driver)"
   ]
  },
  {
   "cell_type": "code",
   "execution_count": 7,
   "metadata": {},
   "outputs": [],
   "source": [
    "driver.get(twitter_url)"
   ]
  },
  {
   "cell_type": "code",
   "execution_count": 8,
   "metadata": {},
   "outputs": [],
   "source": [
    "if len(driver.find_elements_by_xpath('/html/body/div/div/div/div[2]/main/div/div/div/div[1]/div/div[2]/div/div[2]/div[1]/div/div/div/div[2]/div[1]/div/div/div/div/div/div/div/div/div/div[1]/div/div/div/div[2]/div')) > 0:\n",
    "    products = list(db.products.find({'published_at': False}).limit(5))\n",
    "    \n",
    "    tweet_box = driver.find_element_by_xpath('/html/body/div/div/div/div[2]/main/div/div/div/div[1]/div/div[2]/div/div[2]/div[1]/div/div/div/div[2]/div[1]/div/div/div/div/div/div/div/div/div/div[1]/div/div/div/div[2]/div')\n",
    "    \n",
    "    tweet_box.send_keys(\"test\")\n",
    "    \n",
    "    tweet_button = driver.find_element_by_xpath('/html/body/div/div/div/div[2]/main/div/div/div/div[1]/div/div[2]/div/div[2]/div[1]/div/div/div/div[2]/div[4]/div/div/div[2]/div[3]')\n",
    "    \n",
    "    sleep(1)\n",
    "    \n",
    "    tweet_button.click()\n",
    "    \n"
   ]
  },
  {
   "cell_type": "code",
   "execution_count": 17,
   "metadata": {},
   "outputs": [],
   "source": [
    "products = list(db.products.find({'published_at': False}).limit(5))"
   ]
  },
  {
   "cell_type": "code",
   "execution_count": 18,
   "metadata": {},
   "outputs": [
    {
     "name": "stdout",
     "output_type": "stream",
     "text": [
      "[{'_id': ObjectId('5ff4e259219449dec6b9e6d4'), 'product_title': 'RCA 43\" 1080p TV, RT4306', 'product_url': 'https://www.walmart.ca/en/ip/rca-43-1080p-tv-rt4306/6000201927365', 'current_price': 208.0, 'old_price': 228.0, 'discount_number': 20, 'discount_percent': 9, 'inserted_at': datetime.datetime(2021, 1, 5, 17, 4, 8, 756000), 'updated_at': datetime.datetime(2021, 1, 5, 17, 4, 8, 756000), 'published_at': False}, {'_id': ObjectId('5ff4e259219449dec6b9e6d5'), 'product_title': 'Lenovo 10.1\" M10 16GB Tablet with smart dock', 'product_url': 'https://www.walmart.ca/en/ip/lenovo-101-m10-16gb-tablet-with-smart-dock/6000201719703', 'current_price': 150.0, 'old_price': 199.98, 'discount_number': 50, 'discount_percent': 25, 'inserted_at': datetime.datetime(2021, 1, 5, 17, 4, 9, 463000), 'updated_at': datetime.datetime(2021, 1, 5, 17, 4, 9, 463000), 'published_at': False}, {'_id': ObjectId('5ff4e259219449dec6b9e6d6'), 'product_title': 'ONN 3ft High Speed Hdmi Cable with Ethernet', 'product_url': 'https://www.walmart.ca/en/ip/onn-3ft-high-speed-hdmi-cable-with-ethernet/6000195441561', 'current_price': 3.98, 'old_price': 6.98, 'discount_number': 3, 'discount_percent': 43, 'inserted_at': datetime.datetime(2021, 1, 5, 17, 4, 9, 677000), 'updated_at': datetime.datetime(2021, 1, 5, 17, 4, 9, 677000), 'published_at': False}, {'_id': ObjectId('5ff4e259219449dec6b9e6d7'), 'product_title': 'JVC 58\" 4K UHD Smart TV (LT-58EC3502)', 'product_url': 'https://www.walmart.ca/en/ip/jvc-58-4k-uhd-smart-tv-lt-58ec3502/6000202634888', 'current_price': 389.0, 'old_price': 428.0, 'discount_number': 39, 'discount_percent': 9, 'inserted_at': datetime.datetime(2021, 1, 5, 17, 4, 9, 865000), 'updated_at': datetime.datetime(2021, 1, 5, 17, 4, 9, 865000), 'published_at': False}, {'_id': ObjectId('5ff4e25a219449dec6b9e6d8'), 'product_title': 'RCA 39\" 720p LED HD TV, RT3908', 'product_url': 'https://www.walmart.ca/en/ip/rca-39-720p-led-hd-tv-rt3908/6000200510695', 'current_price': 185.0, 'old_price': 218.0, 'discount_number': 33, 'discount_percent': 15, 'inserted_at': datetime.datetime(2021, 1, 5, 17, 4, 10, 59000), 'updated_at': datetime.datetime(2021, 1, 5, 17, 4, 10, 59000), 'published_at': False}]\n"
     ]
    }
   ],
   "source": [
    "print(products)"
   ]
  }
 ],
 "metadata": {
  "kernelspec": {
   "display_name": "Python 3",
   "language": "python",
   "name": "python3"
  },
  "language_info": {
   "codemirror_mode": {
    "name": "ipython",
    "version": 3
   },
   "file_extension": ".py",
   "mimetype": "text/x-python",
   "name": "python",
   "nbconvert_exporter": "python",
   "pygments_lexer": "ipython3",
   "version": "3.8.5"
  }
 },
 "nbformat": 4,
 "nbformat_minor": 4
}
