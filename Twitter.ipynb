{
 "cells": [
  {
   "cell_type": "code",
   "execution_count": 1,
   "metadata": {},
   "outputs": [],
   "source": [
    "from config import *\n",
    "from db import *\n",
    "from utilities import *"
   ]
  },
  {
   "cell_type": "code",
   "execution_count": 2,
   "metadata": {},
   "outputs": [],
   "source": [
    "from time import sleep\n",
    "import json"
   ]
  },
  {
   "cell_type": "code",
   "execution_count": 3,
   "metadata": {},
   "outputs": [],
   "source": [
    "try:\n",
    "    current_path = os.path.dirname(os.path.abspath(__file__))\n",
    "except:\n",
    "    current_path = '.'"
   ]
  },
  {
   "cell_type": "code",
   "execution_count": 4,
   "metadata": {},
   "outputs": [],
   "source": [
    "driver = init_driver(gecko_driver, user_agent = user_agent)"
   ]
  },
  {
   "cell_type": "code",
   "execution_count": 5,
   "metadata": {},
   "outputs": [],
   "source": [
    "driver.get(twitter_login_page)"
   ]
  },
  {
   "cell_type": "code",
   "execution_count": 7,
   "metadata": {},
   "outputs": [],
   "source": [
    "if driver.find_element_by_name(\"session[username_or_email]\") and driver.find_element_by_name(\"session[password]\"):\n",
    "    email = driver.find_element_by_name(\"session[username_or_email]\")\n",
    "    email.clear()\n",
    "    password = driver.find_element_by_name(\"session[password]\")\n",
    "    password.clear()\n",
    "    \n",
    "    email.send_keys(twitter_email)\n",
    "    password.send_keys(twitter_password)\n",
    "    \n",
    "    sleep(3)\n",
    "    password.submit()\n",
    "    \n",
    "    sleep(5)\n",
    "    cookies_list = driver.get_cookies()\n",
    "    \n",
    "    ck_file = open(f\"{current_path}/{twitter_cookies_path}\", 'w', encoding = 'utf8')\n",
    "    ck_file.write(json.dumps(cookies_list))\n",
    "    ck_file.close()"
   ]
  }
 ],
 "metadata": {
  "kernelspec": {
   "display_name": "Python 3",
   "language": "python",
   "name": "python3"
  },
  "language_info": {
   "codemirror_mode": {
    "name": "ipython",
    "version": 3
   },
   "file_extension": ".py",
   "mimetype": "text/x-python",
   "name": "python",
   "nbconvert_exporter": "python",
   "pygments_lexer": "ipython3",
   "version": "3.8.5"
  }
 },
 "nbformat": 4,
 "nbformat_minor": 4
}
