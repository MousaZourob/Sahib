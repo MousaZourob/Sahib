{
 "cells": [
  {
   "cell_type": "code",
   "execution_count": 1,
   "metadata": {},
   "outputs": [],
   "source": [
    "from config import *\n",
    "from db import *\n",
    "from utilities import *"
   ]
  },
  {
   "cell_type": "code",
   "execution_count": 2,
   "metadata": {},
   "outputs": [],
   "source": [
    "try:\n",
    "    current_path = os.path.dirname(os.path.abspath(__file__))\n",
    "except:\n",
    "    current_path = '.'"
   ]
  },
  {
   "cell_type": "code",
   "execution_count": 6,
   "metadata": {},
   "outputs": [],
   "source": [
    "driver = init_driver(gecko_driver, user_agent = user_agent, is_headless = False)"
   ]
  },
  {
   "cell_type": "code",
   "execution_count": 7,
   "metadata": {},
   "outputs": [],
   "source": [
    "# https://www.walmart.ca/en/top-deals-in-electronics/N-33983\n",
    "categories = ['electronics/N-32+103']"
   ]
  },
  {
   "cell_type": "code",
   "execution_count": 8,
   "metadata": {},
   "outputs": [],
   "source": [
    "for category in categories:\n",
    "    category_url = f\"{walmart_base_url}/{category}\"\n",
    "    \n",
    "    for page in range(1,11):\n",
    "        page_url = f\"{category_url}/page-{str(page)}\"\n",
    "        get_url(page_url, driver)\n",
    "        \n",
    "        products = get_products(driver)"
   ]
  }
 ],
 "metadata": {
  "kernelspec": {
   "display_name": "Python 3",
   "language": "python",
   "name": "python3"
  },
  "language_info": {
   "codemirror_mode": {
    "name": "ipython",
    "version": 3
   },
   "file_extension": ".py",
   "mimetype": "text/x-python",
   "name": "python",
   "nbconvert_exporter": "python",
   "pygments_lexer": "ipython3",
   "version": "3.8.5"
  }
 },
 "nbformat": 4,
 "nbformat_minor": 4
}
