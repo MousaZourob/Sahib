{
 "cells": [
  {
   "cell_type": "code",
   "execution_count": 1,
   "metadata": {},
   "outputs": [],
   "source": [
    "from config import *"
   ]
  },
  {
   "cell_type": "code",
   "execution_count": 2,
   "metadata": {},
   "outputs": [],
   "source": [
    "from selenium import webdriver\n",
    "from selenium.webdriver.firefox.options import Options\n",
    "\n",
    "import os\n",
    "from time import sleep"
   ]
  },
  {
   "cell_type": "code",
   "execution_count": 4,
   "metadata": {},
   "outputs": [],
   "source": [
    "try:\n",
    "    current_path = os.path.dirname(os.path.abspath(__file__))\n",
    "except:\n",
    "    current_path = '.'"
   ]
  },
  {
   "cell_type": "code",
   "execution_count": 5,
   "metadata": {},
   "outputs": [],
   "source": [
    "def init_driver(gecko_driver, load_images = True, user_agent = '', is_headless = False):\n",
    "    firefox_profile = webdriver.FirefoxProfile()\n",
    "    \n",
    "    firefox_profile.set_preference('dom.ipc.plugins.enabled.libflashplayer.so', False)\n",
    "    firefox_profile.set_preference('media.volume_scale', \"0.0\")\n",
    "    firefox_profile.set_preference(\"dom.webnotifications.enabled\", False)\n",
    "    \n",
    "    if not load_images:\n",
    "        firefox_profile.set_preference('permissions.default.image', 2)\n",
    "    if user_agent != '':\n",
    "        firefox_profile.set_preference(\"general.useragent.override\", user_agent)\n",
    "    \n",
    "    options = Options()\n",
    "    options.headless = is_headless\n",
    "    \n",
    "    driver = webdriver.Firefox(executable_path = f\"{current_path}/{gecko_driver}\",\n",
    "                              firefox_profile = firefox_profile,\n",
    "                              options = options)\n",
    "    \n",
    "    return driver"
   ]
  },
  {
   "cell_type": "code",
   "execution_count": 6,
   "metadata": {},
   "outputs": [],
   "source": [
    "def get_url(page_url, driver):\n",
    "    driver.get(page_url)\n",
    "    \n",
    "    sleep(page_load)\n",
    "    close_popup = driver.find_elements_by_css_selector('.acsFocusFirst')\n",
    "    if len(close_popup) > 0:\n",
    "        close_popup[0].click()\n"
   ]
  },
  {
   "cell_type": "code",
   "execution_count": 14,
   "metadata": {},
   "outputs": [],
   "source": [
    "driver = init_driver(gecko_driver, user_agent = user_agent)"
   ]
  },
  {
   "cell_type": "code",
   "execution_count": 8,
   "metadata": {},
   "outputs": [],
   "source": [
    "# https://www.walmart.ca/en/top-deals-in-electronics/N-33983\n",
    "categories = ['top-deals-in-electronics/N-33983']"
   ]
  },
  {
   "cell_type": "code",
   "execution_count": 9,
   "metadata": {},
   "outputs": [],
   "source": [
    "for category in categories:\n",
    "    category_url = f\"{walmart_base_url}/{category}\"\n",
    "    for page in range(1,6):\n",
    "        page_url = f\"{category_url}/page-{str(page)}\"\n",
    "        get_url(page_url, driver)\n",
    "    \n",
    "    break"
   ]
  },
  {
   "cell_type": "code",
   "execution_count": 18,
   "metadata": {},
   "outputs": [],
   "source": [
    "get_url('https://www.walmart.ca/en/top-deals-in-electronics/N-33983/page-2', driver)"
   ]
  },
  {
   "cell_type": "code",
   "execution_count": 23,
   "metadata": {},
   "outputs": [
    {
     "name": "stdout",
     "output_type": "stream",
     "text": [
      "LG SK1 Sound Bar\n",
      "https://www.walmart.ca/en/ip/lg-sk1-sound-bar/6000199584994\n",
      "Seagate Photo Drive STJS2000400\n",
      "https://www.walmart.ca/en/ip/seagate-photo-drive-stjs2000400-/6000201119815\n",
      "Emtec CL10 U1 64 GB MSD Gold Card + Adapter\n",
      "https://www.walmart.ca/en/ip/emtec-cl10-u1-64-gb-msd-gold-card-adapter/6000197564465\n",
      "Samsung 58\" Crystal Display 4K UHD SMART TV, UN58TU7000FXZC\n",
      "https://www.walmart.ca/en/ip/samsung-58-crystal-display-4k-uhd-smart-tv-un58tu7000fxzc/6000201036571\n",
      "TP-Link HS200 Smart Wi-Fi Light Switch\n",
      "https://www.walmart.ca/en/ip/tp-link-hs200-smart-wi-fi-light-switch/6000196852354\n",
      "MSI Trident AS 10th Gaming Desktop Intel Core i7-10700F TRIDENT AS 10SC-1066CA\n",
      "https://www.walmart.ca/en/ip/msi-trident-as-10th-gaming-desktop-intel-core-i7-10700f-trident-as-10sc-1066ca/6000202340617\n",
      "Canon Powershot ELPH 360 HS Black Digital Camera\n",
      "https://www.walmart.ca/en/ip/canon-powershot-elph-360-hs-silver-digital-camera-black/6000196942652\n",
      "Canon Powershot SX730 Hs Digital Camera with Case\n",
      "https://www.walmart.ca/en/ip/canon-powershot-sx730-hs-digital-camera-with-case-black/6000197299074\n",
      "Samsung Galaxy A51\n",
      "https://www.walmart.ca/en/ip/samsung-galaxy-a51/6000201375212\n",
      "Canon VIXIA HF R800 Camcorder Bundle with 16GB SD Card and Case\n",
      "https://www.walmart.ca/en/ip/canon-vixia-hf-r800-camcorder-bundle-with-16gb-sd-card-and-case/6000198141048\n",
      "MSI MPG Trident AS 10th Gaming Desktop Core i7 Processor\n",
      "https://www.walmart.ca/en/ip/msi-mpg-trident-as-10th-gaming-desktop-core-i7-processor/6000202454864\n",
      "JBL LIVE 300TWS In-Ear Headphones\n",
      "https://www.walmart.ca/en/ip/jbl-live-300tws-in-ear-headphones-black/6000201351973\n",
      "Seagate Backup Plus Slim 1TB Portable Drive, Black STHN1000400\n",
      "https://www.walmart.ca/en/ip/seagate-backup-plus-slim-1tb-portable-drive-black-sthn1000400/6000199530198\n",
      "LG SN4 Sound Bar with Wireless Subwoofer\n",
      "https://www.walmart.ca/en/ip/lg-sn4-sound-bar-with-wireless-subwoofer/6000201797651\n",
      "Samsung Galaxy Z Flip 5G 6.7-inch Unlocked Cell Phone, 256 GB, Mystic Bronze\n",
      "https://www.walmart.ca/en/ip/samsung-galaxy-z-flip-5g-67-inch-unlocked-cell-phone-256-gb-mystic-bronze-mystic-bronze/6000202176779\n",
      "D-Link AC1900 Dual Band Gigabit Mesh Wi-Fi 5 Router\n",
      "https://www.walmart.ca/en/ip/d-link-ac1900-dual-band-gigabit-mesh-wi-fi-5-router/6000201626487\n",
      "Canon EF 40mm f/2.8 STM Standard Telephoto Lens\n",
      "https://www.walmart.ca/en/ip/canon-ef-40mm-f28-stm-standard-telephoto-lens/6000198139869\n",
      "EMTEC SSD 256GB Portable\n",
      "https://www.walmart.ca/en/ip/emtec-ssd-256gb-portable/PRD6CGYSAN1QQLE\n",
      "Samsung Galaxy S20+ 5G\n",
      "https://www.walmart.ca/en/ip/samsung-galaxy-s20-5g/6000201342555\n",
      "Emtec CL10 U3 64 GB MSD SpeedIN' Card + Adapter\n",
      "https://www.walmart.ca/en/ip/emtec-cl10-u3-64-gb-msd-speedin-card-adapter/6000197565649\n",
      "Samsung Galaxy Z Flip 5G 6.7-inch Unlocked Cell Phone, 256 GB, Mystic Grey\n",
      "https://www.walmart.ca/en/ip/samsung-galaxy-z-flip-5g-67-inch-unlocked-cell-phone-256-gb-mystic-grey-mystic-grey/6000202177058\n",
      "JBL Tune 110\n",
      "https://www.walmart.ca/en/ip/jbl-tune-110/6000200316311\n",
      "Seagate Backup Plus Ultra Touch 2TB\n",
      "https://www.walmart.ca/en/ip/seagate-backup-plus-ultra-touch-2tb/6000199528538\n",
      "Canon EF-S 10-18mm f/4.5-5.6 IS STM Lens\n",
      "https://www.walmart.ca/en/ip/canon-ef-s-10-18mm-f45-56-is-stm-lens/6000198140821\n",
      "Samsung Galaxy S20+ 5G\n",
      "https://www.walmart.ca/en/ip/samsung-galaxy-s20-5g/6000201341945\n",
      "Seagate Backup Plus Slim 2TB\n",
      "https://www.walmart.ca/en/ip/seagate-backup-plus-slim-2tb/6000199528420\n",
      "Seagate Backup Plus Slim 1TB - Blue\n",
      "https://www.walmart.ca/en/ip/seagate-backup-plus-slim-1tb-blue/6000199530819\n",
      "Seagate Backup Plus Ultra Touch 1TB - White\n",
      "https://www.walmart.ca/en/ip/seagate-backup-plus-ultra-touch-1tb-white/6000199530017\n",
      "JBL Tune 110\n",
      "https://www.walmart.ca/en/ip/jbl-tune-110/6000200901354\n",
      "Lenovo 15.6” Laptop Everyday Backpack B510\n",
      "https://www.walmart.ca/en/ip/Lenovo-15-6-Laptop-Everyday-Backpack-B510/PRD577V9US47UGI\n",
      "Lenovo IdeaPad Gaming 15.6-inch Backpack\n",
      "https://www.walmart.ca/en/ip/Lenovo-IdeaPad-Gaming-15-6-inch-Backpack/PRD5XK9U34AXEAW\n",
      "Lenovo 15.6-inch Laptop Urban Toploader T530\n",
      "https://www.walmart.ca/en/ip/Lenovo-15-6-inch-Laptop-Urban-Toploader-T530/PRD2LHLYE7CK9MG\n",
      "Lenovo 15.6\" Classic Backpack by NAVA (Blue)\n",
      "https://www.walmart.ca/en/ip/Lenovo-15-6-Classic-Backpack-by-NAVA-Blue/PRD5SVPI0HOFDD2\n",
      "Lenovo 15.6-inch Laptop Urban Backpack B530\n",
      "https://www.walmart.ca/en/ip/Lenovo-15-6-inch-Laptop-Urban-Backpack-B530/PRD5OMITH6SCEV5\n",
      "Lenovo 17-inch Laptop Urban Backpack B730\n",
      "https://www.walmart.ca/en/ip/Lenovo-17-inch-Laptop-Urban-Backpack-B730/PRD4PTNVAO5R41E\n",
      "Lenovo Legion 17-inch Armored Backpack II\n",
      "https://www.walmart.ca/en/ip/Lenovo-Legion-17-inch-Armored-Backpack-II/PRD1JDN8IRBIW2D\n",
      "D-Link AC1750 Mesh Wi-Fi Range Extender\n",
      "https://www.walmart.ca/en/ip/d-link-ac1750-mesh-wi-fi-range-extender/6000202048147\n",
      "Seagate Expansion SSD 500GB Solid State Drive STJD500400\n",
      "https://www.walmart.ca/en/ip/seagate-expansion-ssd-500gb-solid-state-drive-stjd500400/6000200464931\n",
      "JBL PartyBox 310 - Portable party speaker with dazzling lights and powerful JBL Pro Sound\n",
      "https://www.walmart.ca/en/ip/jbl-partybox-310-portable-party-speaker-with-dazzling-lights-and-powerful-jbl-pro-sound-black/6000202511976\n",
      "Samsung Galaxy Note20 5G 6.7-inch Unlocked Cell Phone, 128 GB, Mystic Grey\n",
      "https://www.walmart.ca/en/ip/samsung-galaxy-note20-5g-67-inch-unlocked-cell-phone-128-gb-mystic-grey-mystic-grey/6000202176696\n",
      "Samsung Galaxy Note20 Ultra 5G 6.9-inch Unlocked Cell Phone, 128 GB, Mystic Black\n",
      "https://www.walmart.ca/en/ip/samsung-galaxy-note20-ultra-5g-69-inch-unlocked-cell-phone-128-gb-mystic-black-mystic-black/6000202176763\n",
      "Energizer Max AA Batteries, 38 Pack\n",
      "\n",
      "Energizer MAX Alkaline AAA Batteries, 26 Pack\n",
      "\n",
      "Fujifilm Instax Mini Confetti Instant Film - Single Pack (10 EXP)\n",
      "\n",
      "Fujifilm Instax Mini Rainbow Film - Mermaid Tail\n",
      "\n",
      "Samsung HW-T40M/ZC Soundbar\n",
      "https://www.walmart.ca/en/ip/samsung-hw-t40mzc-soundbar/6000201057372\n",
      "Emtec B253 64 GB USB 3.0 Slide\n",
      "https://www.walmart.ca/en/ip/emtec-b253-64-gb-usb-30-slide/6000197564409\n",
      "Canon IVY CLIQ+ Instant Camera Sapphire Blue\n",
      "https://www.walmart.ca/en/ip/canon-ivy-cliq-instant-camera-sapphire-blue/6000200018310\n",
      "LG 75\" 4K UHD HDR LED Smart TV, 75UN8570\n",
      "https://www.walmart.ca/en/ip/lg-75-4k-uhd-hdr-led-smart-tv-75un8570/6000201585955\n",
      "Canon IVY CLIQ+ Instant Camera Ruby Red\n",
      "https://www.walmart.ca/en/ip/canon-ivy-cliq-instant-camera-ruby-red/6000200018531\n",
      "Samsung 43\" Crystal Display 4K UHD SMART TV, UN43TU7050FXZC\n",
      "https://www.walmart.ca/en/ip/samsung-43-crystal-display-4k-uhd-smart-tv-un43tu7050fxzc/6000202134747\n",
      "Samsung Odyssey 27\", 2560 x 1440, Black, LC27G55TQWNXZA\n",
      "https://www.walmart.ca/en/ip/samsung-odyssey-27-2560-x-1440-black-lc27g55tqwnxza/6000201934630\n",
      "Samsung 85\" QLED 4K UHD SMART TV, QN85Q60TAFXZC\n",
      "https://www.walmart.ca/en/ip/samsung-85-qled-4k-uhd-smart-tv-qn85q60tafxzc/6000201029436\n",
      "MSI Trident X 10th Gaming Desktop Intel Core i7-10700K(F) Trident X 10SE-1062CA\n",
      "https://www.walmart.ca/en/ip/msi-trident-x-10th-gaming-desktop-intel-core-i7-10700kf-trident-x-10se-1062ca/6000202323973\n",
      "Samsung Galaxy S10 128GB\n",
      "https://www.walmart.ca/en/ip/samsung-galaxy-s10-128gb-prism-blue/6000199615071\n",
      "LG 65\" 4K UHD HDR NanoCell Smart TV, 65NANO85\n",
      "https://www.walmart.ca/en/ip/lg-65-4k-uhd-hdr-nanocell-smart-tv-65nano85/6000201583374\n",
      "Samsung 85\" Crystal Display 4K UHD SMART TV, UN85TU8000FXZC\n",
      "https://www.walmart.ca/en/ip/samsung-85-crystal-display-4k-uhd-smart-tv-un85tu8000fxzc/6000201029433\n",
      "LG 86\" 4K UHD HDR LED Smart TV, 86UN8570\n",
      "https://www.walmart.ca/en/ip/lg-86-4k-uhd-hdr-led-smart-tv-86un8570/6000201585958\n"
     ]
    }
   ],
   "source": [
    "products = driver.find_elements_by_css_selector('div.shelf-thumbs .standard-thumb')\n",
    "\n",
    "for product in products:\n",
    "    product_title = ''\n",
    "    if len(product.find_elements_by_css_selector('div.product-details-container .details .title .thumb-header')) > 0:\n",
    "        product_title = product.find_elements_by_css_selector('div.product-details-container .details .title .thumb-header')[0].text\n",
    "        print(product_title)\n",
    "    product_url = ''\n",
    "    if len(product.find_elements_by_css_selector('a.product-link')) > 0:\n",
    "        product_url = product.find_elements_by_css_selector('a.product-link')[0].get_attribute('href')\n",
    "        print(product_url)"
   ]
  },
  {
   "cell_type": "code",
   "execution_count": 13,
   "metadata": {},
   "outputs": [],
   "source": [
    "driver.quit()"
   ]
  }
 ],
 "metadata": {
  "kernelspec": {
   "display_name": "Python 3",
   "language": "python",
   "name": "python3"
  },
  "language_info": {
   "codemirror_mode": {
    "name": "ipython",
    "version": 3
   },
   "file_extension": ".py",
   "mimetype": "text/x-python",
   "name": "python",
   "nbconvert_exporter": "python",
   "pygments_lexer": "ipython3",
   "version": "3.8.5"
  }
 },
 "nbformat": 4,
 "nbformat_minor": 4
}
