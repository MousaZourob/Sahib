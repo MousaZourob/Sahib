{
 "cells": [
  {
   "cell_type": "code",
   "execution_count": 1,
   "metadata": {},
   "outputs": [],
   "source": [
    "from config import *"
   ]
  },
  {
   "cell_type": "code",
   "execution_count": 2,
   "metadata": {},
   "outputs": [],
   "source": [
    "from selenium import webdriver\n",
    "from selenium.webdriver.firefox.options import Options\n",
    "\n",
    "import os\n",
    "from time import sleep"
   ]
  },
  {
   "cell_type": "code",
   "execution_count": 3,
   "metadata": {},
   "outputs": [],
   "source": [
    "try:\n",
    "    current_path = os.path.dirname(os.path.abspath(__file__))\n",
    "except:\n",
    "    current_path = '.'"
   ]
  },
  {
   "cell_type": "code",
   "execution_count": 4,
   "metadata": {},
   "outputs": [],
   "source": [
    "def init_driver(gecko_driver, load_images = True, user_agent = '', is_headless = False):\n",
    "    firefox_profile = webdriver.FirefoxProfile()\n",
    "    \n",
    "    firefox_profile.set_preference('dom.ipc.plugins.enabled.libflashplayer.so', False)\n",
    "    firefox_profile.set_preference('media.volume_scale', \"0.0\")\n",
    "    firefox_profile.set_preference(\"dom.webnotifications.enabled\", False)\n",
    "    \n",
    "    if not load_images:\n",
    "        firefox_profile.set_preference('permissions.default.image', 2)\n",
    "    if user_agent != '':\n",
    "        firefox_profile.set_preference(\"general.useragent.override\", user_agent)\n",
    "    \n",
    "    options = Options()\n",
    "    options.headless = is_headless\n",
    "    \n",
    "    driver = webdriver.Firefox(executable_path = f\"{current_path}/{gecko_driver}\",\n",
    "                              firefox_profile = firefox_profile,\n",
    "                              options = options)\n",
    "    \n",
    "    return driver"
   ]
  },
  {
   "cell_type": "code",
   "execution_count": 5,
   "metadata": {},
   "outputs": [],
   "source": [
    "def get_url(page_url, driver):\n",
    "    driver.get(page_url)\n",
    "    \n",
    "    sleep(page_load)\n",
    "    close_popup = driver.find_elements_by_css_selector('.acsFocusFirst')\n",
    "    if len(close_popup) > 0:\n",
    "        close_popup[0].click()\n"
   ]
  },
  {
   "cell_type": "code",
   "execution_count": 6,
   "metadata": {},
   "outputs": [],
   "source": [
    "driver = init_driver(gecko_driver, user_agent = user_agent)"
   ]
  },
  {
   "cell_type": "code",
   "execution_count": 7,
   "metadata": {},
   "outputs": [],
   "source": [
    "# https://www.walmart.ca/en/top-deals-in-electronics/N-33983\n",
    "categories = ['top-deals-in-electronics/N-33983']"
   ]
  },
  {
   "cell_type": "code",
   "execution_count": 9,
   "metadata": {},
   "outputs": [],
   "source": [
    "for category in categories:\n",
    "    category_url = f\"{walmart_base_url}/{category}\"\n",
    "    for page in range(1,6):\n",
    "        page_url = f\"{category_url}/page-{str(page)}\"\n",
    "        get_url(page_url, driver)\n",
    "    \n",
    "    break"
   ]
  },
  {
   "cell_type": "code",
   "execution_count": 9,
   "metadata": {},
   "outputs": [],
   "source": [
    "get_url('https://www.walmart.ca/en/top-deals-in-electronics/N-33983/page-1', driver)"
   ]
  },
  {
   "cell_type": "code",
   "execution_count": 28,
   "metadata": {},
   "outputs": [
    {
     "name": "stdout",
     "output_type": "stream",
     "text": [
      "FUJIFILM CANADA INC Fujifilm Instax Mini Twin Pack Instant Film.\n",
      "https://www.walmart.ca/en/ip/fujifilm-canada-inc-fujifilm-instax-mini-twin-pack-instant-film/6000118331180\n",
      "21.99\n",
      "Canon PIXMA TS3320 Wireless Inkjet All-in-One Printer\n",
      "https://www.walmart.ca/en/ip/canon-pixma-ts3320-wireless-inkjet-all-in-one-printer/6000200803570\n",
      "89.98\n",
      "Google Nest Mini Gen2\n",
      "https://www.walmart.ca/en/ip/google-nest-mini-gen2-grey/6000200554462\n",
      "49.0\n",
      "Fujifilm Instax Mini 11 Camera\n",
      "https://www.walmart.ca/en/ip/fujifilm-instax-mini-11-camera-lilac-purple/6000201258464\n",
      "89.98\n",
      "SanDisk 128GB MicroSDXC card for Nintendo Switch SDSQXAO-128G-CWCZN\n",
      "https://www.walmart.ca/en/ip/sandisk-128gb-microsdxc-card-for-nintendo-switch-sdsqxao-128g-cwczn/6000200229107\n",
      "27.98\n",
      "Samsung 55\"4K UHD HDR Smart TV, UN55NU6900FXZC\n",
      "https://www.walmart.ca/en/ip/samsung-554k-uhd-hdr-smart-tv-un55nu6900fxzc/6000199255079\n",
      "498.0\n",
      "Samsung Galaxy Tab S6 Lite, 64 GB\n",
      "https://www.walmart.ca/en/ip/samsung-galaxy-tab-s6-lite-64-gb-oxford-gray/6000202650045\n",
      "429.98\n",
      "Fitbit Inspire 2\n",
      "https://www.walmart.ca/en/ip/fitbit-inspire-2-standard/6000202186150\n",
      "99.95\n",
      "SanDisk Ultra 128 GB 80 MB/s microSDXC Memory Card SDSQUNC-128G-CW6MA\n",
      "https://www.walmart.ca/en/ip/sandisk-ultra-128-gb-80-mbs-microsdxc-memory-card-sdsqunc-128g-cw6ma/6000197126405\n",
      "35.98\n",
      "FUJIFILM CANADA INC Instax Mini Film - 10 Sheets\n",
      "https://www.walmart.ca/en/ip/fujifilm-canada-inc-instax-mini-film-10-sheets/6000194940963\n",
      "11.98\n",
      "FUJIFILM CANADA INC Fujifilm Instax Mini Rainbow Film\n",
      "https://www.walmart.ca/en/ip/fujifilm-canada-inc-fujifilm-instax-mini-rainbow-film/6000118750107\n",
      "65.36\n",
      "Seagate Expansion 2TB 2.5\" 5400RPM USB 3.0 Portable External Hard Drive\n",
      "https://www.walmart.ca/en/ip/seagate-expansion-2tb-25-5400rpm-usb-30-portable-external-hard-drive/6000196199060\n",
      "99.99\n",
      "Fitbit Charge 4\n",
      "https://www.walmart.ca/en/ip/fitbit-charge-4-one-size/6000201199118\n",
      "159.95\n",
      "Samsung 50\" Crystal Display 4K UHD SMART TV, UN50TU7050FXZC\n",
      "https://www.walmart.ca/en/ip/samsung-50-crystal-display-4k-uhd-smart-tv-un50tu7050fxzc/6000202133624\n",
      "498.0\n",
      "SanDisk 128G Ultra SDXC UHS-1 Memory Card\n",
      "https://www.walmart.ca/en/ip/sandisk-128g-ultra-sdxc-uhs-1-memory-card/6000200449332\n",
      "36.99\n",
      "Samsung 50\" Crystal Display 4K UHD SMART TV, UN50TU8000FXZC\n",
      "https://www.walmart.ca/en/ip/samsung-50-crystal-display-4k-uhd-smart-tv-un50tu8000fxzc/6000201029410\n",
      "598.0\n",
      "Seagate 2TB Game Drive for Xbox, Grey\n",
      "https://www.walmart.ca/en/ip/seagate-2tb-game-drive-for-xbox-grey/6000201799594\n",
      "127.98\n",
      "SanDisk Ultra 128GB USB 3.0 Flash Drive\n",
      "https://www.walmart.ca/en/ip/sandisk-ultra-128gb-usb-30-flash-drive/6000196866629\n",
      "22.98\n",
      "Fujifilm Instax Mini Monochrome Instant Film\n",
      "https://www.walmart.ca/en/ip/fujifilm-instax-mini-monochrome-instant-film/6000197397172\n",
      "13.99\n",
      "Samsung 55\" Crystal Display 4K UHD SMART TV, UN55TU8000FXZC\n",
      "https://www.walmart.ca/en/ip/samsung-55-crystal-display-4k-uhd-smart-tv-un55tu8000fxzc/6000201029413\n",
      "698.0\n",
      "Samsung Galaxy S20 FE 5G 128GB\n",
      "https://www.walmart.ca/en/ip/samsung-galaxy-s20-fe-5g-128gb-navy/6000202392138\n",
      "829.98\n",
      "Seagate Game Drive for PS4\n",
      "https://www.walmart.ca/en/ip/seagate-game-drive-for-ps4/6000199530643\n",
      "94.98\n",
      "JBL GO 2\n",
      "https://www.walmart.ca/en/ip/jbl-go-2-blue/6000202508204\n"
     ]
    },
    {
     "ename": "ValueError",
     "evalue": "could not convert string to float: '29.98 to 49.99'",
     "output_type": "error",
     "traceback": [
      "\u001b[1;31m---------------------------------------------------------------------------\u001b[0m",
      "\u001b[1;31mValueError\u001b[0m                                Traceback (most recent call last)",
      "\u001b[1;32m<ipython-input-28-c650c431cb53>\u001b[0m in \u001b[0;36m<module>\u001b[1;34m\u001b[0m\n\u001b[0;32m     17\u001b[0m         \u001b[0mcurrent_price\u001b[0m \u001b[1;33m=\u001b[0m \u001b[0mcurrent_price\u001b[0m\u001b[1;33m.\u001b[0m\u001b[0mreplace\u001b[0m\u001b[1;33m(\u001b[0m\u001b[1;34m'\\n'\u001b[0m\u001b[1;33m,\u001b[0m \u001b[1;34m''\u001b[0m\u001b[1;33m)\u001b[0m\u001b[1;33m\u001b[0m\u001b[1;33m\u001b[0m\u001b[0m\n\u001b[0;32m     18\u001b[0m         \u001b[0mcurrent_price\u001b[0m \u001b[1;33m=\u001b[0m \u001b[0mcurrent_price\u001b[0m\u001b[1;33m.\u001b[0m\u001b[0mreplace\u001b[0m\u001b[1;33m(\u001b[0m\u001b[1;34m'$'\u001b[0m\u001b[1;33m,\u001b[0m \u001b[1;34m''\u001b[0m\u001b[1;33m)\u001b[0m\u001b[1;33m\u001b[0m\u001b[1;33m\u001b[0m\u001b[0m\n\u001b[1;32m---> 19\u001b[1;33m         \u001b[0mcurrent_price\u001b[0m \u001b[1;33m=\u001b[0m \u001b[0mfloat\u001b[0m\u001b[1;33m(\u001b[0m\u001b[0mcurrent_price\u001b[0m\u001b[1;33m)\u001b[0m\u001b[1;33m\u001b[0m\u001b[1;33m\u001b[0m\u001b[0m\n\u001b[0m\u001b[0;32m     20\u001b[0m         \u001b[0mprint\u001b[0m\u001b[1;33m(\u001b[0m\u001b[0mcurrent_price\u001b[0m\u001b[1;33m)\u001b[0m\u001b[1;33m\u001b[0m\u001b[1;33m\u001b[0m\u001b[0m\n\u001b[0;32m     21\u001b[0m \u001b[1;33m\u001b[0m\u001b[0m\n",
      "\u001b[1;31mValueError\u001b[0m: could not convert string to float: '29.98 to 49.99'"
     ]
    }
   ],
   "source": [
    "products = driver.find_elements_by_css_selector('div.shelf-thumbs .standard-thumb')\n",
    "\n",
    "for product in products:\n",
    "    product_title = ''\n",
    "    if len(product.find_elements_by_css_selector('div.product-details-container .details .title .thumb-header')) > 0:\n",
    "        product_title = product.find_elements_by_css_selector('div.product-details-container .details .title .thumb-header')[0].text\n",
    "        print(product_title)\n",
    "    \n",
    "    product_url = ''\n",
    "    if len(product.find_elements_by_css_selector('a.product-link')) > 0:\n",
    "        product_url = product.find_elements_by_css_selector('a.product-link')[0].get_attribute('href')\n",
    "        print(product_url)\n",
    "    \n",
    "    current_price = 0\n",
    "    if len(product.find_elements_by_css_selector('div.product-details-container .all-price-sections .price-current')) > 0:\n",
    "        current_price = product.find_elements_by_css_selector('div.product-details-container .all-price-sections .price-current')[0].text\n",
    "        current_price = current_price.replace('\\n', '')\n",
    "        current_price = current_price.replace('$', '')\n",
    "        current_price = float(current_price)\n",
    "        print(current_price)\n",
    "        "
   ]
  },
  {
   "cell_type": "code",
   "execution_count": 15,
   "metadata": {},
   "outputs": [],
   "source": [
    "driver.quit()"
   ]
  }
 ],
 "metadata": {
  "kernelspec": {
   "display_name": "Python 3",
   "language": "python",
   "name": "python3"
  },
  "language_info": {
   "codemirror_mode": {
    "name": "ipython",
    "version": 3
   },
   "file_extension": ".py",
   "mimetype": "text/x-python",
   "name": "python",
   "nbconvert_exporter": "python",
   "pygments_lexer": "ipython3",
   "version": "3.8.5"
  }
 },
 "nbformat": 4,
 "nbformat_minor": 4
}
