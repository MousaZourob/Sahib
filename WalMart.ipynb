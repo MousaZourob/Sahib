{
 "cells": [
  {
   "cell_type": "code",
   "execution_count": 1,
   "metadata": {},
   "outputs": [],
   "source": [
    "from config import *"
   ]
  },
  {
   "cell_type": "code",
   "execution_count": 2,
   "metadata": {},
   "outputs": [],
   "source": [
    "from selenium import webdriver\n",
    "from selenium.webdriver.firefox.options import Options\n",
    "\n",
    "import os\n",
    "from time import sleep"
   ]
  },
  {
   "cell_type": "code",
   "execution_count": 3,
   "metadata": {},
   "outputs": [],
   "source": [
    "try:\n",
    "    current_path = os.path.dirname(os.path.abspath(__file__))\n",
    "except:\n",
    "    current_path = '.'"
   ]
  },
  {
   "cell_type": "code",
   "execution_count": 4,
   "metadata": {},
   "outputs": [],
   "source": [
    "def init_driver(gecko_driver, load_images = True, user_agent = '', is_headless = False):\n",
    "    firefox_profile = webdriver.FirefoxProfile()\n",
    "    \n",
    "    firefox_profile.set_preference('dom.ipc.plugins.enabled.libflashplayer.so', False)\n",
    "    firefox_profile.set_preference('media.volume_scale', \"0.0\")\n",
    "    firefox_profile.set_preference(\"dom.webnotifications.enabled\", False)\n",
    "    \n",
    "    if not load_images:\n",
    "        firefox_profile.set_preference('permissions.default.image', 2)\n",
    "    if user_agent != '':\n",
    "        firefox_profile.set_preference(\"general.useragent.override\", user_agent)\n",
    "    \n",
    "    options = Options()\n",
    "    options.headless = is_headless\n",
    "    \n",
    "    driver = webdriver.Firefox(executable_path = f\"{current_path}/{gecko_driver}\",\n",
    "                              firefox_profile = firefox_profile,\n",
    "                              options = options)\n",
    "    \n",
    "    return driver"
   ]
  },
  {
   "cell_type": "code",
   "execution_count": 5,
   "metadata": {},
   "outputs": [],
   "source": [
    "def get_url(page_url, driver):\n",
    "    driver.get(page_url)\n",
    "    \n",
    "    sleep(page_load)\n",
    "    close_popup = driver.find_elements_by_css_selector('.acsFocusFirst')\n",
    "    if len(close_popup) > 0:\n",
    "        close_popup[0].click()\n"
   ]
  },
  {
   "cell_type": "code",
   "execution_count": 6,
   "metadata": {},
   "outputs": [],
   "source": [
    "driver = init_driver(gecko_driver, user_agent = user_agent)"
   ]
  },
  {
   "cell_type": "code",
   "execution_count": 7,
   "metadata": {},
   "outputs": [],
   "source": [
    "# https://www.walmart.ca/en/top-deals-in-electronics/N-33983\n",
    "categories = ['top-deals-in-electronics/N-33983']"
   ]
  },
  {
   "cell_type": "code",
   "execution_count": 9,
   "metadata": {},
   "outputs": [],
   "source": [
    "for category in categories:\n",
    "    category_url = f\"{walmart_base_url}/{category}\"\n",
    "    for page in range(1,6):\n",
    "        page_url = f\"{category_url}/page-{str(page)}\"\n",
    "        get_url(page_url, driver)\n",
    "    \n",
    "    break"
   ]
  },
  {
   "cell_type": "code",
   "execution_count": 47,
   "metadata": {},
   "outputs": [],
   "source": [
    "get_url('https://www.walmart.ca/en/top-deals-in-electronics/N-33983/page-2', driver)"
   ]
  },
  {
   "cell_type": "code",
   "execution_count": null,
   "metadata": {},
   "outputs": [
    {
     "name": "stdout",
     "output_type": "stream",
     "text": [
      "Canon Powershot ELPH 360 HS Black Digital Camera\n",
      "https://www.walmart.ca/en/ip/canon-powershot-elph-360-hs-silver-digital-camera-black/6000196942652\n",
      "229.0\n",
      "0\n",
      "---------------------------\n",
      "Canon Powershot SX730 Hs Digital Camera with Case\n",
      "https://www.walmart.ca/en/ip/canon-powershot-sx730-hs-digital-camera-with-case-black/6000197299074\n",
      "399.0\n",
      "0\n",
      "---------------------------\n",
      "JBL LIVE 300TWS In-Ear Headphones\n",
      "https://www.walmart.ca/en/ip/jbl-live-300tws-in-ear-headphones-black/6000201351973\n",
      "149.98\n",
      "0\n",
      "---------------------------\n",
      "Samsung Galaxy Note20 Ultra 5G 6.9-inch Unlocked Cell Phone, 512 GB, Mystic Black\n",
      "https://www.walmart.ca/en/ip/samsung-galaxy-note20-ultra-5g-69-inch-unlocked-cell-phone-512-gb-mystic-black/6000202176634\n",
      "1767.98\n",
      "0\n",
      "---------------------------\n",
      "Samsung Galaxy A51\n",
      "https://www.walmart.ca/en/ip/samsung-galaxy-a51/6000201375212\n",
      "419.98\n",
      "0\n",
      "---------------------------\n",
      "Seagate Backup Plus Slim 1TB Portable Drive, Black STHN1000400\n",
      "https://www.walmart.ca/en/ip/seagate-backup-plus-slim-1tb-portable-drive-black-sthn1000400/6000199530198\n",
      "69.98\n",
      "0\n",
      "---------------------------\n",
      "Samsung Galaxy Note20 Ultra 5G 6.9-inch Unlocked Cell Phone, 128 GB, Mystic Black\n",
      "https://www.walmart.ca/en/ip/samsung-galaxy-note20-ultra-5g-69-inch-unlocked-cell-phone-128-gb-mystic-black-mystic-black/6000202176763\n",
      "1557.98\n",
      "0\n",
      "---------------------------\n",
      "Canon EF 40mm f/2.8 STM Standard Telephoto Lens\n",
      "https://www.walmart.ca/en/ip/canon-ef-40mm-f28-stm-standard-telephoto-lens/6000198139869\n",
      "199.0\n",
      "0\n",
      "---------------------------\n",
      "D-Link AC1900 Dual Band Gigabit Mesh Wi-Fi 5 Router\n",
      "https://www.walmart.ca/en/ip/d-link-ac1900-dual-band-gigabit-mesh-wi-fi-5-router/6000201626487\n",
      "109.98\n",
      "0\n",
      "---------------------------\n",
      "LG SN4 Sound Bar with Wireless Subwoofer\n",
      "https://www.walmart.ca/en/ip/lg-sn4-sound-bar-with-wireless-subwoofer/6000201797651\n",
      "298.0\n",
      "0\n",
      "---------------------------\n",
      "Samsung Galaxy Z Flip 5G 6.7-inch Unlocked Cell Phone, 256 GB, Mystic Bronze\n",
      "https://www.walmart.ca/en/ip/samsung-galaxy-z-flip-5g-67-inch-unlocked-cell-phone-256-gb-mystic-bronze-mystic-bronze/6000202176779\n",
      "1869.98\n",
      "0\n",
      "---------------------------\n",
      "MSI Creator P100A 10th Desktop Intel Core i7-10700F Creator P100A 10SD-270CA\n",
      "https://www.walmart.ca/en/ip/msi-creator-p100a-10th-desktop-intel-core-i7-10700f-creator-p100a-10sd-270ca/6000202341110\n",
      "2299.0\n",
      "0\n",
      "---------------------------\n",
      "Samsung Galaxy Z Flip 5G 6.7-inch Unlocked Cell Phone, 256 GB, Mystic Grey\n",
      "https://www.walmart.ca/en/ip/samsung-galaxy-z-flip-5g-67-inch-unlocked-cell-phone-256-gb-mystic-grey-mystic-grey/6000202177058\n",
      "1869.98\n",
      "0\n",
      "---------------------------\n",
      "Samsung Galaxy S20+ 5G\n",
      "https://www.walmart.ca/en/ip/samsung-galaxy-s20-5g/6000201342555\n",
      "1329.98\n",
      "0\n",
      "---------------------------\n",
      "Emtec CL10 U3 64 GB MSD SpeedIN' Card + Adapter\n",
      "https://www.walmart.ca/en/ip/emtec-cl10-u3-64-gb-msd-speedin-card-adapter/6000197565649\n",
      "29.98\n",
      "0\n",
      "---------------------------\n",
      "EMTEC SSD 256GB Portable\n",
      "https://www.walmart.ca/en/ip/emtec-ssd-256gb-portable/PRD6CGYSAN1QQLE\n",
      "62.38\n",
      "0\n",
      "---------------------------\n",
      "JBL Tune 110\n",
      "https://www.walmart.ca/en/ip/jbl-tune-110/6000200316311\n",
      "19.98\n",
      "0\n",
      "---------------------------\n",
      "Canon EF-S 10-18mm f/4.5-5.6 IS STM Lens\n"
     ]
    }
   ],
   "source": [
    "products = driver.find_elements_by_css_selector('div.shelf-thumbs .standard-thumb')\n",
    "\n",
    "for product in products:\n",
    "    # Get product title\n",
    "    product_title = ''\n",
    "    if len(product.find_elements_by_css_selector('div.product-details-container .details .title .thumb-header')) > 0:\n",
    "        product_title = product.find_elements_by_css_selector('div.product-details-container .details .title .thumb-header')[0].text\n",
    "        print(product_title)\n",
    "    \n",
    "    # Get product url\n",
    "    product_url = ''\n",
    "    if len(product.find_elements_by_css_selector('a.product-link')) > 0:\n",
    "        product_url = product.find_elements_by_css_selector('a.product-link')[0].get_attribute('href')\n",
    "        print(product_url)\n",
    "    \n",
    "    # Get product current price\n",
    "    current_price = 0\n",
    "    if len(product.find_elements_by_css_selector('div.product-details-container .all-price-sections .price-current')) > 0:\n",
    "        current_price = product.find_elements_by_css_selector('div.product-details-container .all-price-sections .price-current')[0].text\n",
    "        current_price = current_price.replace('\\n', '')\n",
    "        current_price = current_price.replace('$', '')\n",
    "        current_price = current_price.replace(',', '')\n",
    "        if \"to\" in current_price:\n",
    "            current_price = current_price.split('.')\n",
    "            current_price = float(current_price[0])\n",
    "        current_price = float(current_price)\n",
    "        print(current_price)\n",
    "    \n",
    "    # Get product old price\n",
    "    old_price = 0\n",
    "    if len(product.find_elements_by_css_selector('div.product-details-container .all-price-sections .pricing-spacer .price-was')) > 0:\n",
    "        old_price = product.find_elements_by_css_selector('div.product-details-container .all-price-sections .pricing-spacer .price-was')[0].text\n",
    "        old_price = old_price.replace('$', '')\n",
    "        old_price = old_price.replace(\"Was \", \"\")\n",
    "        if len(old_price) > 0:\n",
    "            old_price = float(old_price)\n",
    "        else: \n",
    "            old_price = 0\n",
    "        print(old_price)\n",
    "        \n",
    "    discount_number = 0\n",
    "    discount_percent = 0\n",
    "    \n",
    "    if current_price != 0 and old_price != 0 and old_price > current_price:\n",
    "        discount_number = round(old_price - current_price, 2)\n",
    "        discount_percent = round(100 - (current_price/old_price) * 100, 2)\n",
    "        \n",
    "        print(discount_number, \" %\", discount_percent)\n",
    "    \n",
    "    print(\"---------------------------\")\n",
    "\n",
    "    \n",
    "        "
   ]
  },
  {
   "cell_type": "code",
   "execution_count": 15,
   "metadata": {},
   "outputs": [],
   "source": [
    "driver.quit()"
   ]
  }
 ],
 "metadata": {
  "kernelspec": {
   "display_name": "Python 3",
   "language": "python",
   "name": "python3"
  },
  "language_info": {
   "codemirror_mode": {
    "name": "ipython",
    "version": 3
   },
   "file_extension": ".py",
   "mimetype": "text/x-python",
   "name": "python",
   "nbconvert_exporter": "python",
   "pygments_lexer": "ipython3",
   "version": "3.8.5"
  }
 },
 "nbformat": 4,
 "nbformat_minor": 4
}
