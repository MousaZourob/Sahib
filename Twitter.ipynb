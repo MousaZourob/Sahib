{
 "cells": [
  {
   "cell_type": "code",
   "execution_count": 27,
   "metadata": {},
   "outputs": [],
   "source": [
    "from config import *\n",
    "from db import *\n",
    "from utilities import *"
   ]
  },
  {
   "cell_type": "code",
   "execution_count": 28,
   "metadata": {},
   "outputs": [],
   "source": [
    "from time import sleep\n",
    "import json\n",
    "from pathlib import Path"
   ]
  },
  {
   "cell_type": "code",
   "execution_count": 29,
   "metadata": {},
   "outputs": [],
   "source": [
    "try:\n",
    "    current_path = os.path.dirname(os.path.abspath(__file__))\n",
    "except:\n",
    "    current_path = '.'"
   ]
  },
  {
   "cell_type": "code",
   "execution_count": 30,
   "metadata": {},
   "outputs": [],
   "source": [
    "driver = init_driver(gecko_driver, user_agent = user_agent)"
   ]
  },
  {
   "cell_type": "code",
   "execution_count": 31,
   "metadata": {},
   "outputs": [],
   "source": [
    "def load_cookies(driver):\n",
    "    driver.get(twitter_url)\n",
    "    cookies = ''\n",
    "    \n",
    "    cookie_file = f\"{current_path}/{twitter_cookies_path}\"\n",
    "    if Path(cookie_file).is_file():\n",
    "        with open(cookie_file, 'r', encoding = 'utf8') as ck_file:\n",
    "            cookies = ck_file.read()\n",
    "    \n",
    "    if cookies != '':\n",
    "        cookies = json.loads(cookies)\n",
    "        \n",
    "        if len(cookies) > 0:\n",
    "            for cookie in cookies:\n",
    "                driver.add_cookie(cookie)\n",
    "                \n",
    "        sleep(5)\n",
    "    \n",
    "        driver.get(f\"{twitter_url}/settings/account\")\n",
    "        if len(driver.find_elements_by_name(\"session[username_or_email]\")) >  0:\n",
    "            _ = open(cookie_file, 'w').truncate()\n",
    "            return False\n",
    "        else: \n",
    "            return True\n",
    "    \n",
    "    return False\n",
    "\n",
    "def twitter_login(driver):    \n",
    "    driver.get(twitter_login_page)\n",
    "    \n",
    "    if driver.find_elements_by_name(\"session[username_or_email]\") and driver.find_elements_by_name(\"session[password]\"):\n",
    "        email = driver.find_element_by_name(\"session[username_or_email]\")\n",
    "        email.clear()\n",
    "        password = driver.find_element_by_name(\"session[password]\")\n",
    "        password.clear()\n",
    "\n",
    "        email.send_keys(twitter_email)\n",
    "        password.send_keys(twitter_password)\n",
    "\n",
    "        sleep(3)\n",
    "        password.submit()\n",
    "\n",
    "        sleep(5)\n",
    "        cookies_list = driver.get_cookies()\n",
    "\n",
    "        ck_file = open(f\"{current_path}/{twitter_cookies_path}\", 'w', encoding = 'utf8')\n",
    "        ck_file.write(json.dumps(cookies_list))\n",
    "        ck_file.close()\n",
    "        \n",
    "    return True\n",
    "        "
   ]
  },
  {
   "cell_type": "code",
   "execution_count": 26,
   "metadata": {},
   "outputs": [],
   "source": [
    "is_login = load_cookies(driver)\n",
    "\n",
    "if is_login == False:\n",
    "    twitter_login(driver)"
   ]
  }
 ],
 "metadata": {
  "kernelspec": {
   "display_name": "Python 3",
   "language": "python",
   "name": "python3"
  },
  "language_info": {
   "codemirror_mode": {
    "name": "ipython",
    "version": 3
   },
   "file_extension": ".py",
   "mimetype": "text/x-python",
   "name": "python",
   "nbconvert_exporter": "python",
   "pygments_lexer": "ipython3",
   "version": "3.8.5"
  }
 },
 "nbformat": 4,
 "nbformat_minor": 4
}
