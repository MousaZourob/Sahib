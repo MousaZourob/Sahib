{
 "cells": [
  {
   "cell_type": "code",
   "execution_count": 1,
   "metadata": {},
   "outputs": [],
   "source": [
    "from config import *"
   ]
  },
  {
   "cell_type": "code",
   "execution_count": 2,
   "metadata": {},
   "outputs": [],
   "source": [
    "from selenium import webdriver\n",
    "from selenium.webdriver.firefox.options import Options\n",
    "\n",
    "import os\n",
    "from time import sleep"
   ]
  },
  {
   "cell_type": "code",
   "execution_count": 4,
   "metadata": {},
   "outputs": [],
   "source": [
    "try:\n",
    "    current_path = os.path.dirname(os.path.abspath(__file__))\n",
    "except:\n",
    "    current_path = '.'"
   ]
  },
  {
   "cell_type": "code",
   "execution_count": 5,
   "metadata": {},
   "outputs": [],
   "source": [
    "def init_driver(gecko_driver, load_images = True, user_agent = '', is_headless = False):\n",
    "    firefox_profile = webdriver.FirefoxProfile()\n",
    "    \n",
    "    firefox_profile.set_preference('dom.ipc.plugins.enabled.libflashplayer.so', False)\n",
    "    firefox_profile.set_preference('media.volume_scale', \"0.0\")\n",
    "    firefox_profile.set_preference(\"dom.webnotifications.enabled\", False)\n",
    "    \n",
    "    if not load_images:\n",
    "        firefox_profile.set_preference('permissions.default.image', 2)\n",
    "    if user_agent != '':\n",
    "        firefox_profile.set_preference(\"general.useragent.override\", user_agent)\n",
    "    \n",
    "    options = Options()\n",
    "    options.headless = is_headless\n",
    "    \n",
    "    driver = webdriver.Firefox(executable_path = f\"{current_path}/{gecko_driver}\",\n",
    "                              firefox_profile = firefox_profile,\n",
    "                              options = options)\n",
    "    \n",
    "    return driver"
   ]
  },
  {
   "cell_type": "code",
   "execution_count": 6,
   "metadata": {},
   "outputs": [],
   "source": [
    "def get_url(page_url, driver):\n",
    "    driver.get(page_url)\n",
    "    \n",
    "    sleep(page_load)\n",
    "    close_popup = driver.find_elements_by_css_selector('.acsFocusFirst')\n",
    "    if len(close_popup) > 0:\n",
    "        close_popup[0].click()\n"
   ]
  },
  {
   "cell_type": "code",
   "execution_count": 14,
   "metadata": {},
   "outputs": [],
   "source": [
    "driver = init_driver(gecko_driver, user_agent = user_agent)"
   ]
  },
  {
   "cell_type": "code",
   "execution_count": 8,
   "metadata": {},
   "outputs": [],
   "source": [
    "# https://www.walmart.ca/en/top-deals-in-electronics/N-33983\n",
    "categories = ['top-deals-in-electronics/N-33983']"
   ]
  },
  {
   "cell_type": "code",
   "execution_count": 9,
   "metadata": {},
   "outputs": [],
   "source": [
    "for category in categories:\n",
    "    category_url = f\"{walmart_base_url}/{category}\"\n",
    "    for page in range(1,6):\n",
    "        page_url = f\"{category_url}/page-{str(page)}\"\n",
    "        get_url(page_url, driver)\n",
    "    \n",
    "    break"
   ]
  },
  {
   "cell_type": "code",
   "execution_count": 18,
   "metadata": {},
   "outputs": [],
   "source": [
    "get_url('https://www.walmart.ca/en/top-deals-in-electronics/N-33983/page-2', driver)"
   ]
  },
  {
   "cell_type": "code",
   "execution_count": 19,
   "metadata": {},
   "outputs": [
    {
     "name": "stdout",
     "output_type": "stream",
     "text": [
      "LG SK1 Sound Bar\n",
      "Seagate Photo Drive STJS2000400\n",
      "Emtec CL10 U1 64 GB MSD Gold Card + Adapter\n",
      "Samsung 58\" Crystal Display 4K UHD SMART TV, UN58TU7000FXZC\n",
      "TP-Link HS200 Smart Wi-Fi Light Switch\n",
      "MSI Trident AS 10th Gaming Desktop Intel Core i7-10700F TRIDENT AS 10SC-1066CA\n",
      "Canon Powershot ELPH 360 HS Black Digital Camera\n",
      "Canon Powershot SX730 Hs Digital Camera with Case\n",
      "Samsung Galaxy A51\n",
      "Canon VIXIA HF R800 Camcorder Bundle with 16GB SD Card and Case\n",
      "MSI MPG Trident AS 10th Gaming Desktop Core i7 Processor\n",
      "JBL LIVE 300TWS In-Ear Headphones\n",
      "Seagate Backup Plus Slim 1TB Portable Drive, Black STHN1000400\n",
      "LG SN4 Sound Bar with Wireless Subwoofer\n",
      "Samsung Galaxy Z Flip 5G 6.7-inch Unlocked Cell Phone, 256 GB, Mystic Bronze\n",
      "D-Link AC1900 Dual Band Gigabit Mesh Wi-Fi 5 Router\n",
      "Canon EF 40mm f/2.8 STM Standard Telephoto Lens\n",
      "EMTEC SSD 256GB Portable\n",
      "Samsung Galaxy S20+ 5G\n",
      "Emtec CL10 U3 64 GB MSD SpeedIN' Card + Adapter\n",
      "Samsung Galaxy Z Flip 5G 6.7-inch Unlocked Cell Phone, 256 GB, Mystic Grey\n",
      "JBL Tune 110\n",
      "Seagate Backup Plus Ultra Touch 2TB\n",
      "Canon EF-S 10-18mm f/4.5-5.6 IS STM Lens\n",
      "Samsung Galaxy S20+ 5G\n",
      "Seagate Backup Plus Slim 2TB\n",
      "Seagate Backup Plus Slim 1TB - Blue\n",
      "Seagate Backup Plus Ultra Touch 1TB - White\n",
      "JBL Tune 110\n",
      "Lenovo 15.6” Laptop Everyday Backpack B510\n",
      "Lenovo IdeaPad Gaming 15.6-inch Backpack\n",
      "Lenovo 15.6-inch Laptop Urban Toploader T530\n",
      "Lenovo 15.6\" Classic Backpack by NAVA (Blue)\n",
      "Lenovo 15.6-inch Laptop Urban Backpack B530\n",
      "Lenovo 17-inch Laptop Urban Backpack B730\n",
      "Lenovo Legion 17-inch Armored Backpack II\n",
      "D-Link AC1750 Mesh Wi-Fi Range Extender\n",
      "Seagate Expansion SSD 500GB Solid State Drive STJD500400\n",
      "JBL PartyBox 310 - Portable party speaker with dazzling lights and powerful JBL Pro Sound\n",
      "Samsung Galaxy Note20 5G 6.7-inch Unlocked Cell Phone, 128 GB, Mystic Grey\n",
      "Samsung Galaxy Note20 Ultra 5G 6.9-inch Unlocked Cell Phone, 128 GB, Mystic Black\n",
      "Energizer Max AA Batteries, 38 Pack\n",
      "Energizer MAX Alkaline AAA Batteries, 26 Pack\n",
      "Fujifilm Instax Mini Confetti Instant Film - Single Pack (10 EXP)\n",
      "Fujifilm Instax Mini Rainbow Film - Mermaid Tail\n",
      "Samsung HW-T40M/ZC Soundbar\n",
      "Emtec B253 64 GB USB 3.0 Slide\n",
      "Canon IVY CLIQ+ Instant Camera Sapphire Blue\n",
      "LG 75\" 4K UHD HDR LED Smart TV, 75UN8570\n",
      "Canon IVY CLIQ+ Instant Camera Ruby Red\n",
      "Samsung 43\" Crystal Display 4K UHD SMART TV, UN43TU7050FXZC\n",
      "Samsung Odyssey 27\", 2560 x 1440, Black, LC27G55TQWNXZA\n",
      "Samsung 85\" QLED 4K UHD SMART TV, QN85Q60TAFXZC\n",
      "MSI Trident X 10th Gaming Desktop Intel Core i7-10700K(F) Trident X 10SE-1062CA\n",
      "Samsung Galaxy S10 128GB\n",
      "LG 65\" 4K UHD HDR NanoCell Smart TV, 65NANO85\n",
      "Samsung 85\" Crystal Display 4K UHD SMART TV, UN85TU8000FXZC\n",
      "LG 86\" 4K UHD HDR LED Smart TV, 86UN8570\n"
     ]
    }
   ],
   "source": [
    "products = driver.find_elements_by_css_selector('div.shelf-thumbs .standard-thumb')\n",
    "\n",
    "for product in products:\n",
    "    product_title = product.find_elements_by_css_selector('div.product-details-container .details .title .thumb-header')[0].text\n",
    "    print(product_title)"
   ]
  },
  {
   "cell_type": "code",
   "execution_count": 13,
   "metadata": {},
   "outputs": [],
   "source": [
    "driver.quit()"
   ]
  }
 ],
 "metadata": {
  "kernelspec": {
   "display_name": "Python 3",
   "language": "python",
   "name": "python3"
  },
  "language_info": {
   "codemirror_mode": {
    "name": "ipython",
    "version": 3
   },
   "file_extension": ".py",
   "mimetype": "text/x-python",
   "name": "python",
   "nbconvert_exporter": "python",
   "pygments_lexer": "ipython3",
   "version": "3.8.5"
  }
 },
 "nbformat": 4,
 "nbformat_minor": 4
}
